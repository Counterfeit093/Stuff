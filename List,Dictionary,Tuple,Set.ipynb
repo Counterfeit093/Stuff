{
 "cells": [
  {
   "cell_type": "markdown",
   "metadata": {},
   "source": [
    "Podstawowa wiedza na temat :Lists, Dcitionaries, Tuples, Set"
   ]
  },
  {
   "cell_type": "markdown",
   "metadata": {},
   "source": [
    "### 1) Listy\n",
    "\n",
    "Najbardziej elastyczny typ obiektu uporządkowanej listy."
   ]
  },
  {
   "cell_type": "code",
   "execution_count": 109,
   "metadata": {},
   "outputs": [],
   "source": [
    "#deklaracje\n",
    "dogNames=[\"Burek\",\"Azor\",\"Rex\"]\n",
    "#pusta lista\n",
    "glass = []\n",
    "#Dwuwymiarowe listy\n",
    "xx, yy = 4, 5;\n",
    "Matrix = [[0 for x in range(yy)] for y in range(xx)] "
   ]
  },
  {
   "cell_type": "code",
   "execution_count": 110,
   "metadata": {},
   "outputs": [
    {
     "name": "stdout",
     "output_type": "stream",
     "text": [
      "Psy:  ['Burek', 'Azor', 'Rex']\n",
      "1 pies:  Burek\n",
      "Pusta tablica:  []\n",
      "Dwuwymiarowa tablica (Macierz): [[0, 0, 0, 0, 0], [0, 0, 0, 0, 0], [0, 0, 0, 0, 0], [0, 0, 0, 0, 0]]\n"
     ]
    }
   ],
   "source": [
    "print(\"Psy: \",dogNames)\n",
    "print(\"1 pies: \", dogNames[0])\n",
    "print(\"Pusta tablica: \",glass)\n",
    "print(\"Dwuwymiarowa tablica (Macierz):\", Matrix)"
   ]
  },
  {
   "cell_type": "code",
   "execution_count": 111,
   "metadata": {},
   "outputs": [
    {
     "name": "stdout",
     "output_type": "stream",
     "text": [
      "\n",
      "Rrezerwowanie miejsc w tabicy:\n",
      "[0][0]=3\n",
      "[2][3]=5\n"
     ]
    }
   ],
   "source": [
    "print(\"\\nRrezerwowanie miejsc w tabicy:\")\n",
    "print(\"[0][0]=3\")\n",
    "Matrix[0][0]=3\n",
    "print(\"[2][3]=5\")\n",
    "Matrix[2][3]=5"
   ]
  },
  {
   "cell_type": "code",
   "execution_count": 112,
   "metadata": {},
   "outputs": [
    {
     "name": "stdout",
     "output_type": "stream",
     "text": [
      "[[3, 0, 0, 0, 0], [0, 0, 0, 0, 0], [0, 0, 0, 5, 0], [0, 0, 0, 0, 0]]\n"
     ]
    }
   ],
   "source": [
    "print(Matrix)"
   ]
  },
  {
   "cell_type": "code",
   "execution_count": 113,
   "metadata": {},
   "outputs": [],
   "source": [
    "newList=list(range(5))\n",
    "biggerList=list(range(100))"
   ]
  },
  {
   "cell_type": "code",
   "execution_count": 114,
   "metadata": {},
   "outputs": [
    {
     "name": "stdout",
     "output_type": "stream",
     "text": [
      "Wszystkie elementy obu list: \n",
      "\n",
      "Lista skladajaca sie z 5 elementow:\n",
      "\n",
      " [0, 1, 2, 3, 4] \n",
      "\n",
      "Ze 100: \n",
      "\n",
      " [0, 1, 2, 3, 4, 5, 6, 7, 8, 9, 10, 11, 12, 13, 14, 15, 16, 17, 18, 19, 20, 21, 22, 23, 24, 25, 26, 27, 28, 29, 30, 31, 32, 33, 34, 35, 36, 37, 38, 39, 40, 41, 42, 43, 44, 45, 46, 47, 48, 49, 50, 51, 52, 53, 54, 55, 56, 57, 58, 59, 60, 61, 62, 63, 64, 65, 66, 67, 68, 69, 70, 71, 72, 73, 74, 75, 76, 77, 78, 79, 80, 81, 82, 83, 84, 85, 86, 87, 88, 89, 90, 91, 92, 93, 94, 95, 96, 97, 98, 99]\n"
     ]
    }
   ],
   "source": [
    "print(\"Wszystkie elementy obu list: \\n\")\n",
    "print(\"Lista skladajaca sie z 5 elementow:\\n\\n\",newList,\"\\n\")\n",
    "print(\"Ze 100: \\n\\n\",biggerList)"
   ]
  },
  {
   "cell_type": "code",
   "execution_count": 115,
   "metadata": {},
   "outputs": [],
   "source": [
    "biggerList=list(range(0,100,10))"
   ]
  },
  {
   "cell_type": "code",
   "execution_count": 116,
   "metadata": {},
   "outputs": [
    {
     "name": "stdout",
     "output_type": "stream",
     "text": [
      "lista w zakresie od 0 do 100, gdzie element jest rowny 10\n",
      "[0, 10, 20, 30, 40, 50, 60, 70, 80, 90]\n"
     ]
    }
   ],
   "source": [
    "print(\"lista w zakresie od 0 do 100, gdzie element jest rowny 10\")\n",
    "print(biggerList)"
   ]
  },
  {
   "cell_type": "code",
   "execution_count": 117,
   "metadata": {},
   "outputs": [
    {
     "name": "stdout",
     "output_type": "stream",
     "text": [
      "Czy element znajduje sie na liscie?\n",
      "20: True \n",
      "25: False\n"
     ]
    }
   ],
   "source": [
    "print(\"Czy element znajduje sie na liscie?\")\n",
    "num1=20 in biggerList\n",
    "num2=25 in biggerList\n",
    "print(\"20:\",num1,\"\\n25:\",num2)"
   ]
  },
  {
   "cell_type": "markdown",
   "metadata": {},
   "source": [
    "### 2) Dictionary\n",
    "\n",
    "Uzywany do przechowywania danych w kluczach, parach"
   ]
  },
  {
   "cell_type": "code",
   "execution_count": 118,
   "metadata": {},
   "outputs": [],
   "source": [
    "newDict={'key1':10,'notOnlyKey':20,'DogName':'Burek'}"
   ]
  },
  {
   "cell_type": "code",
   "execution_count": 119,
   "metadata": {},
   "outputs": [
    {
     "data": {
      "text/plain": [
       "10"
      ]
     },
     "execution_count": 119,
     "metadata": {},
     "output_type": "execute_result"
    }
   ],
   "source": [
    "newDict['key1']"
   ]
  },
  {
   "cell_type": "code",
   "execution_count": 120,
   "metadata": {},
   "outputs": [
    {
     "data": {
      "text/plain": [
       "'Burek'"
      ]
     },
     "execution_count": 120,
     "metadata": {},
     "output_type": "execute_result"
    }
   ],
   "source": [
    "newDict['DogName']"
   ]
  },
  {
   "cell_type": "code",
   "execution_count": 121,
   "metadata": {},
   "outputs": [
    {
     "data": {
      "text/plain": [
       "dict_keys(['key1', 'notOnlyKey', 'DogName'])"
      ]
     },
     "execution_count": 121,
     "metadata": {},
     "output_type": "execute_result"
    }
   ],
   "source": [
    "newDict.keys()"
   ]
  },
  {
   "cell_type": "code",
   "execution_count": 122,
   "metadata": {},
   "outputs": [
    {
     "data": {
      "text/plain": [
       "dict_items([('key1', 10), ('notOnlyKey', 20), ('DogName', 'Burek')])"
      ]
     },
     "execution_count": 122,
     "metadata": {},
     "output_type": "execute_result"
    }
   ],
   "source": [
    "newDict.items()"
   ]
  },
  {
   "cell_type": "code",
   "execution_count": 123,
   "metadata": {},
   "outputs": [
    {
     "data": {
      "text/plain": [
       "20"
      ]
     },
     "execution_count": 123,
     "metadata": {},
     "output_type": "execute_result"
    }
   ],
   "source": [
    "#Wyrzucenie drugiego klucza z listy\n",
    "newDict.pop('notOnlyKey')"
   ]
  },
  {
   "cell_type": "code",
   "execution_count": 124,
   "metadata": {},
   "outputs": [
    {
     "data": {
      "text/plain": [
       "dict_items([('key1', 10), ('DogName', 'Burek')])"
      ]
     },
     "execution_count": 124,
     "metadata": {},
     "output_type": "execute_result"
    }
   ],
   "source": [
    "newDict.items()"
   ]
  },
  {
   "cell_type": "markdown",
   "metadata": {},
   "source": [
    "### 3)Tuple\n",
    "\n",
    "Lista, w ktorej nie mozna zmienic elementow po ich zadelkarowaniu"
   ]
  },
  {
   "cell_type": "code",
   "execution_count": 125,
   "metadata": {},
   "outputs": [],
   "source": [
    "newTuple=(1,2,3)"
   ]
  },
  {
   "cell_type": "markdown",
   "metadata": {},
   "source": [
    "newTuple[0]=7 <- Taki blad wywali blad 'tuple' object does not support item assignment"
   ]
  },
  {
   "cell_type": "markdown",
   "metadata": {},
   "source": [
    "### 4)Set\n",
    "\n",
    "Set wyrzuca unikatowe wartości z danych"
   ]
  },
  {
   "cell_type": "code",
   "execution_count": 126,
   "metadata": {},
   "outputs": [],
   "source": [
    "newSet = {1,1,1,1,1,2,2,2,2,2,3,3,3,3,4,4,4,5,5,5,1,1,1,2,2,2,100}"
   ]
  },
  {
   "cell_type": "code",
   "execution_count": 127,
   "metadata": {},
   "outputs": [
    {
     "name": "stdout",
     "output_type": "stream",
     "text": [
      "{1, 2, 3, 4, 5, 100}\n"
     ]
    }
   ],
   "source": [
    "print(newSet)"
   ]
  }
 ],
 "metadata": {
  "kernelspec": {
   "display_name": "Python 3",
   "language": "python",
   "name": "python3"
  },
  "language_info": {
   "codemirror_mode": {
    "name": "ipython",
    "version": 3
   },
   "file_extension": ".py",
   "mimetype": "text/x-python",
   "name": "python",
   "nbconvert_exporter": "python",
   "pygments_lexer": "ipython3",
   "version": "3.8.5"
  }
 },
 "nbformat": 4,
 "nbformat_minor": 4
}
